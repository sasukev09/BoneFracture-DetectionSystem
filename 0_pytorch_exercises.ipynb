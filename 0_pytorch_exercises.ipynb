{
  "nbformat": 4,
  "nbformat_minor": 0,
  "metadata": {
    "colab": {
      "provenance": [],
      "gpuType": "T4",
      "authorship_tag": "ABX9TyMO3338kIMEkY1hMAeULReS"
    },
    "kernelspec": {
      "name": "python3",
      "display_name": "Python 3"
    },
    "language_info": {
      "name": "python"
    },
    "accelerator": "GPU"
  },
  "cells": [
    {
      "cell_type": "code",
      "execution_count": null,
      "metadata": {
        "colab": {
          "base_uri": "https://localhost:8080/"
        },
        "id": "uwT7g7HMXg-p",
        "outputId": "bdd92e21-c836-4fa5-9ab9-bf599a600a11"
      },
      "outputs": [
        {
          "output_type": "execute_result",
          "data": {
            "text/plain": [
              "(tensor([[0.7308, 0.8694, 0.1932, 0.8097, 0.0048, 0.6487, 0.7315],\n",
              "         [0.5571, 0.0369, 0.6796, 0.0645, 0.3965, 0.5692, 0.0581],\n",
              "         [0.7381, 0.5473, 0.7307, 0.5893, 0.5047, 0.5895, 0.2430],\n",
              "         [0.3447, 0.4645, 0.6874, 0.5117, 0.8003, 0.1585, 0.1209],\n",
              "         [0.9569, 0.2046, 0.3154, 0.7036, 0.0422, 0.2496, 0.8109],\n",
              "         [0.5795, 0.9842, 0.6968, 0.8748, 0.2238, 0.7562, 0.5154],\n",
              "         [0.8414, 0.6772, 0.7167, 0.0959, 0.7896, 0.1944, 0.6711]]),\n",
              " torch.Size([7, 7]))"
            ]
          },
          "metadata": {},
          "execution_count": 1
        }
      ],
      "source": [
        "# Create a random tensor with shape (7,7)\n",
        "\n",
        "import torch\n",
        "\n",
        "random_tensor = torch.rand(7,7)\n",
        "random_tensor, random_tensor.shape"
      ]
    },
    {
      "cell_type": "code",
      "source": [
        "#Perform a matrix multiplication on the tensor from 2 with another\n",
        "#random tensor with shape (1, 7) (hint: you may have to transpose the second tensor)"
      ],
      "metadata": {
        "id": "muHIEm_FbxKv"
      },
      "execution_count": null,
      "outputs": []
    },
    {
      "cell_type": "code",
      "source": [
        "another_tensor = torch.rand(1,7)\n",
        "another_tensor,another_tensor.shape"
      ],
      "metadata": {
        "colab": {
          "base_uri": "https://localhost:8080/"
        },
        "id": "vzjOo6EBcren",
        "outputId": "13d29518-6275-4d57-cdd1-0b385e4afec6"
      },
      "execution_count": null,
      "outputs": [
        {
          "output_type": "execute_result",
          "data": {
            "text/plain": [
              "(tensor([[0.5868, 0.8685, 0.8801, 0.4335, 0.1301, 0.1471, 0.1723]]),\n",
              " torch.Size([1, 7]))"
            ]
          },
          "metadata": {},
          "execution_count": 3
        }
      ]
    },
    {
      "cell_type": "code",
      "source": [
        "tensorResult1 = torch.matmul(random_tensor, another_tensor)\n",
        "tensorResult1"
      ],
      "metadata": {
        "colab": {
          "base_uri": "https://localhost:8080/",
          "height": 164
        },
        "id": "RNSD9oBtddyW",
        "outputId": "4abe7893-73e5-4ad9-dee6-0c8c6e6a6f47"
      },
      "execution_count": null,
      "outputs": [
        {
          "output_type": "error",
          "ename": "RuntimeError",
          "evalue": "mat1 and mat2 shapes cannot be multiplied (7x7 and 1x7)",
          "traceback": [
            "\u001b[0;31m---------------------------------------------------------------------------\u001b[0m",
            "\u001b[0;31mRuntimeError\u001b[0m                              Traceback (most recent call last)",
            "\u001b[0;32m<ipython-input-4-8a0dc9592c8c>\u001b[0m in \u001b[0;36m<cell line: 1>\u001b[0;34m()\u001b[0m\n\u001b[0;32m----> 1\u001b[0;31m \u001b[0mtensorResult1\u001b[0m \u001b[0;34m=\u001b[0m \u001b[0mtorch\u001b[0m\u001b[0;34m.\u001b[0m\u001b[0mmatmul\u001b[0m\u001b[0;34m(\u001b[0m\u001b[0mrandom_tensor\u001b[0m\u001b[0;34m,\u001b[0m \u001b[0manother_tensor\u001b[0m\u001b[0;34m)\u001b[0m\u001b[0;34m\u001b[0m\u001b[0;34m\u001b[0m\u001b[0m\n\u001b[0m\u001b[1;32m      2\u001b[0m \u001b[0mtensorResult1\u001b[0m\u001b[0;34m\u001b[0m\u001b[0;34m\u001b[0m\u001b[0m\n",
            "\u001b[0;31mRuntimeError\u001b[0m: mat1 and mat2 shapes cannot be multiplied (7x7 and 1x7)"
          ]
        }
      ]
    },
    {
      "cell_type": "code",
      "source": [
        "new_another = another_tensor.T\n",
        "new_another, new_another.shape"
      ],
      "metadata": {
        "colab": {
          "base_uri": "https://localhost:8080/"
        },
        "id": "lhCQ7s8yik8x",
        "outputId": "d7629503-a485-423a-c91b-b4fc1171b02d"
      },
      "execution_count": null,
      "outputs": [
        {
          "output_type": "execute_result",
          "data": {
            "text/plain": [
              "(tensor([[0.5868],\n",
              "         [0.8685],\n",
              "         [0.8801],\n",
              "         [0.4335],\n",
              "         [0.1301],\n",
              "         [0.1471],\n",
              "         [0.1723]]),\n",
              " torch.Size([7, 1]))"
            ]
          },
          "metadata": {},
          "execution_count": 4
        }
      ]
    },
    {
      "cell_type": "code",
      "source": [
        "tensorResult1 = torch.matmul(random_tensor, new_another)\n",
        "tensorResult1, tensorResult1.shape"
      ],
      "metadata": {
        "colab": {
          "base_uri": "https://localhost:8080/"
        },
        "id": "tHJ0S0I3j7RS",
        "outputId": "4e8cf606-92ce-4027-d22c-67e0b3addaf6"
      },
      "execution_count": null,
      "outputs": [
        {
          "output_type": "execute_result",
          "data": {
            "text/plain": [
              "(tensor([[1.9270],\n",
              "         [1.1302],\n",
              "         [2.0012],\n",
              "         [1.5807],\n",
              "         [1.5037],\n",
              "         [2.4164],\n",
              "         [2.0011]]),\n",
              " torch.Size([7, 1]))"
            ]
          },
          "metadata": {},
          "execution_count": 5
        }
      ]
    },
    {
      "cell_type": "markdown",
      "source": [],
      "metadata": {
        "id": "CWOGfiSucmyz"
      }
    },
    {
      "cell_type": "code",
      "source": [
        "# Set random seed to 0 and do exercises 2 & 3 over again\n",
        "\n",
        "import torch\n",
        "random_seed = 0\n",
        "\n",
        "torch.manual_seed(random_seed)\n",
        "random_tensor = torch.rand(7,7)\n",
        "random_tensor.shape\n",
        "\n",
        "torch.manual_seed(random_seed)\n",
        "another_tensor = torch.rand(1,7)\n",
        "another_transpose = another_tensor.T\n",
        "\n",
        "\n",
        "tensorResult1 = torch.matmul(random_tensor, another_transpose)\n",
        "tensorResult1, tensorResult1.shape"
      ],
      "metadata": {
        "colab": {
          "base_uri": "https://localhost:8080/"
        },
        "id": "Y17k1YvukAvc",
        "outputId": "82091f41-4154-4a12-fb21-55a60c03b7a7"
      },
      "execution_count": null,
      "outputs": [
        {
          "output_type": "execute_result",
          "data": {
            "text/plain": [
              "(tensor([[1.5985],\n",
              "         [1.1173],\n",
              "         [1.2741],\n",
              "         [1.6838],\n",
              "         [0.8279],\n",
              "         [1.0347],\n",
              "         [1.2498]]),\n",
              " torch.Size([7, 1]))"
            ]
          },
          "metadata": {},
          "execution_count": 10
        }
      ]
    },
    {
      "cell_type": "code",
      "source": [
        "# Speaking of random seeds, we saw how to set it with torch.manual_seed() but is there a GPU equivalent?\n",
        " # (hint: you'll need to look into the documentation for torch.cuda for this one).\n",
        "# If there is, set the GPU random seed to 1234.\n",
        "\n",
        "gpu_random_seed = 1234\n",
        "gpu_random = torch.cuda.manual_seed(gpu_random_seed)\n",
        "print(gpu_random)\n",
        "\n",
        "\n",
        "\n"
      ],
      "metadata": {
        "colab": {
          "base_uri": "https://localhost:8080/"
        },
        "id": "7Kll9xKnpAy5",
        "outputId": "d779aed9-76d9-4e43-c826-8595e7b748fa"
      },
      "execution_count": null,
      "outputs": [
        {
          "output_type": "stream",
          "name": "stdout",
          "text": [
            "None\n"
          ]
        }
      ]
    },
    {
      "cell_type": "code",
      "source": [
        "#Create two random tensors of shape (2, 3) and send them both to the GPU (you'll need access to a GPU for this).\n",
        "# Set torch.manual_seed(1234) when creating the tensors (this doesn't have to be the GPU random seed).\n",
        "\n",
        "import torch\n",
        "torch.manual_seed(1234)\n",
        "\n",
        "random_tensor = torch.rand(2,3)\n",
        "\n",
        "another_tensor = torch.rand(2,3)\n",
        "\n",
        "device = \"cuda\" if torch.cuda.is_available() else \"cpu\"\n",
        "\n",
        "random_tensor.to(device), another_tensor.to(device)"
      ],
      "metadata": {
        "colab": {
          "base_uri": "https://localhost:8080/"
        },
        "id": "M9CkyAJUQ8e3",
        "outputId": "df5f1661-2364-48e3-cce1-d61dca2fefb9"
      },
      "execution_count": null,
      "outputs": [
        {
          "output_type": "execute_result",
          "data": {
            "text/plain": [
              "(tensor([[0.0290, 0.4019, 0.2598],\n",
              "         [0.3666, 0.0583, 0.7006]]),\n",
              " tensor([[0.0518, 0.4681, 0.6738],\n",
              "         [0.3315, 0.7837, 0.5631]]))"
            ]
          },
          "metadata": {},
          "execution_count": 26
        }
      ]
    },
    {
      "cell_type": "code",
      "source": [
        "#Perform a matrix multiplication on the tensors you created in 6 (again, you may have to adjust the shapes of one of the tensors\n",
        "\n",
        "matrix_mul_2 = torch.matmul(random_tensor, another_tensor.T)\n",
        "matrix_mul_2"
      ],
      "metadata": {
        "colab": {
          "base_uri": "https://localhost:8080/"
        },
        "id": "AyyuYCsX6i9z",
        "outputId": "dc1aeeed-6184-497f-d286-c05df75e16e4"
      },
      "execution_count": null,
      "outputs": [
        {
          "output_type": "execute_result",
          "data": {
            "text/plain": [
              "tensor([[0.3647, 0.4709],\n",
              "        [0.5184, 0.5617]])"
            ]
          },
          "metadata": {},
          "execution_count": 27
        }
      ]
    },
    {
      "cell_type": "code",
      "source": [
        "#Find the maximum and minimum values of the output of 7.\n",
        "matrix_mul_2.min(), matrix_mul_2.max()"
      ],
      "metadata": {
        "colab": {
          "base_uri": "https://localhost:8080/"
        },
        "id": "_THoDUl6V6qi",
        "outputId": "e4f465e1-49bf-4b72-d013-977b670467ec"
      },
      "execution_count": null,
      "outputs": [
        {
          "output_type": "execute_result",
          "data": {
            "text/plain": [
              "(tensor(0.3647), tensor(0.5617))"
            ]
          },
          "metadata": {},
          "execution_count": 28
        }
      ]
    },
    {
      "cell_type": "code",
      "source": [],
      "metadata": {
        "id": "oi47i3IoT015"
      },
      "execution_count": null,
      "outputs": []
    },
    {
      "cell_type": "code",
      "source": [
        "#Find the maximum and minimum index values of the output of 7.\n",
        "matrix_mul_2.argmin(), matrix_mul_2.argmax()"
      ],
      "metadata": {
        "colab": {
          "base_uri": "https://localhost:8080/"
        },
        "id": "jkFPgCT7dsi_",
        "outputId": "20e53671-560f-43fc-e2cd-e706eb153f07"
      },
      "execution_count": null,
      "outputs": [
        {
          "output_type": "execute_result",
          "data": {
            "text/plain": [
              "(tensor(0), tensor(3))"
            ]
          },
          "metadata": {},
          "execution_count": 29
        }
      ]
    },
    {
      "cell_type": "code",
      "source": [
        "# Make a random tensor with shape (1, 1, 1, 10) and then create a new tensor with all the 1 dimensions removed to be left with a tensor of shape (10).\n",
        "# Set the seed to 7 when you create it and print out the first tensor and it's shape as well as the second tensor and it's shape.\n",
        "import torch\n",
        "set_seed = 7\n",
        "torch.manual_seed(set_seed)\n",
        "tensor_index = torch.rand(1, 1, 1, 10)\n",
        "\n",
        "torch.manual_seed(set_seed)\n",
        "tensor_to_squeeze = tensor_index.squeeze()\n",
        "\n",
        "\n",
        "print(tensor_index, tensor_index.shape)\n",
        "print(tensor_to_squeeze, tensor_to_squeeze.shape)\n"
      ],
      "metadata": {
        "colab": {
          "base_uri": "https://localhost:8080/"
        },
        "id": "wGdleWRsfp5U",
        "outputId": "9c0ec7fd-3d64-4f49-df9a-31b6581ac79b"
      },
      "execution_count": null,
      "outputs": [
        {
          "output_type": "stream",
          "name": "stdout",
          "text": [
            "tensor([[[[0.5349, 0.1988, 0.6592, 0.6569, 0.2328, 0.4251, 0.2071, 0.6297,\n",
            "           0.3653, 0.8513]]]]) torch.Size([1, 1, 1, 10])\n",
            "tensor([0.5349, 0.1988, 0.6592, 0.6569, 0.2328, 0.4251, 0.2071, 0.6297, 0.3653,\n",
            "        0.8513]) torch.Size([10])\n"
          ]
        }
      ]
    },
    {
      "cell_type": "code",
      "source": [],
      "metadata": {
        "id": "fYc2rFsCg6-E"
      },
      "execution_count": null,
      "outputs": []
    }
  ]
}